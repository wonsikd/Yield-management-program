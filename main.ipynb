{
 "cells": [
  {
   "cell_type": "markdown",
   "id": "1b9537ab",
   "metadata": {},
   "source": [
    "# 자료구조 프로젝트 - 포트폴리오 백테스팅 저장 시스템\n",
    "## 다음은 자료구조 프로젝트에서 투자 방식 별 수익률을 저장하는 시스템을 구축한 코드입니다\n",
    "### 간단한 비중을 입력하였으며, 향후 더 세분화해서 저장할 수 있게 발전시킬 수 있다고 생각합니다.\n",
    "### 현재 저장하는 방식은 주식,채권 비중을 키값으로 '0.1,0.3' 형태로 저장하게 하였으며 value는 지정한 end날짜까지 수익률을 구해 결과값을 불러옵니다."
   ]
  },
  {
   "cell_type": "markdown",
   "id": "b86b707b",
   "metadata": {},
   "source": [
    "## 1. 먼저 필요한 라이브러리를 불러옵니다."
   ]
  },
  {
   "cell_type": "code",
   "execution_count": 1,
   "id": "66b52c63",
   "metadata": {
    "ExecuteTime": {
     "end_time": "2022-05-03T04:31:30.512389Z",
     "start_time": "2022-05-03T04:31:30.503416Z"
    }
   },
   "outputs": [],
   "source": [
    "#!pip install pandas_datareader \n",
    "import numpy as np\n",
    "import pandas as pd\n",
    "import re\n",
    "import pandas_datareader as wb\n",
    "import operator\n"
   ]
  },
  {
   "cell_type": "markdown",
   "id": "c1c347cd",
   "metadata": {
    "ExecuteTime": {
     "end_time": "2022-05-02T17:11:48.238636Z",
     "start_time": "2022-05-02T17:11:48.226640Z"
    }
   },
   "source": [
    "### 사용한 자료구조는 딕셔너리입니다.\n",
    "### 포트폴리오의 백테스팅 결과는 기간에 따라 다를 수 있기때문에 self.table_day 변수를 이용해 초기 날짜를 저장할 수 있게끔하였습니다.\n",
    "### 또한, 입력 변수를 다음과 같이 포맷팅시켰습니다. (ex.0.1,0.3)\n",
    "### 나눠주는 방식을 취하였기에 비중이 0인 경우는 제외해주었습니다. 실제 분산투자시에도 비중이 0인 경우는 별로 고려하지 않음을 생각하여 설정하였습니다.\n",
    "\n",
    "### 추가적으로 sort 함수를 팀소트를 이용해 만들어보았으며, 기본적으로 파이썬 내장함수 sorted(팀소트)을 활용하였습니다.\n",
    "### 정렬을 할 경우는 기본 자료구조에서 새 메모리를 할당하여 리스트안에 튜플들을 저장하게끔 해주었습니다.\n",
    "### 추가적으로 ascending이라는 변수를 이용해 내림차순 오름차순을 설정하게끔 해주었습니다. 또한, 마지막 산출 값을 데이터프레임 형태로 만들어보았습니다."
   ]
  },
  {
   "cell_type": "code",
   "execution_count": null,
   "id": "f3ce5ef9",
   "metadata": {},
   "outputs": [],
   "source": []
  },
  {
   "cell_type": "code",
   "execution_count": 158,
   "id": "555467c5",
   "metadata": {
    "ExecuteTime": {
     "end_time": "2022-05-03T04:32:49.595037Z",
     "start_time": "2022-05-03T04:32:49.576882Z"
    }
   },
   "outputs": [],
   "source": [
    "class port_system:\n",
    "    def __init__(self, table_day,name_list):\n",
    "        self.name_list=name_list\n",
    "        \n",
    "        self.port_dict = dict()\n",
    "        self.key_list=[]\n",
    "        self.table_day=table_day\n",
    "    \n",
    "    \n",
    "    def save(self, key, value):\n",
    "        if len(value) != len(self.name_list):\n",
    "            print(len(value),value,len(self.name_list))\n",
    "            print(\"value개수와 초기 저장예정 변수 개수가 다릅니다.\")\n",
    "        \n",
    "        if key in port_dict.keys():\n",
    "            print('이미 키값으로 있습니다.')\n",
    "        else:\n",
    "            self.port_dict[key]=value\n",
    "            self.key_list.append(key)\n",
    "            \n",
    "    def read(self, key,Frame='off'):\n",
    "        if key not in self.key_list:\n",
    "            print('키 값이 없습니다.')\n",
    "            return\n",
    "        \n",
    "        value=self.port_dict[key]\n",
    "        \\\n",
    "        if Frame==\"on\":\n",
    "            print(pd.DataFrame(value,self.name_list))\n",
    "            return self.hash_table[hash_address][a][1]\n",
    "        \n",
    "        return value\n",
    "        \n",
    "        \n",
    "    def delete(self, key):\n",
    "        if key not in self.key_list:\n",
    "            print('키 값이 없습니다.')\n",
    "        else:\n",
    "            del self.port_dict[key]\n",
    "            self.key_list.remove(key)\n",
    "     \n",
    "    \n",
    "    def sort(self, value,ascending=False):\n",
    "        print(value,'기준으로', 'ascending',ascending,'으로 정렬합니다.')\n",
    "        value_index=self.name_list.index(value)\n",
    "        print(value_index)\n",
    "        length = len(self.key_list) - 1\n",
    "        arr=self.key_list\n",
    "        sort_list=[]\n",
    "        item_list=list(self.port_dict.items())\n",
    "        for i in range(length):\n",
    "            value=item_list[i][1][value_index]\n",
    "            sort_list.append((item_list[i][0],value))\n",
    "            #print((item_list[i][0],value))\n",
    "        \n",
    "        \n",
    "        sort_finish=sorted(sort_list, key=operator.itemgetter(1))\n",
    "        \n",
    "        sort_array=pd.DataFrame(sort_finish)\n",
    "        sort_array.columns=[\"weight(stock,bond)\"]+[self.name_list[value_index]]\n",
    "        if ascending==False:\n",
    "            sort_array=sort_array[::-1]\n",
    "            return sort_array\n",
    "        return sort_array\n",
    "        "
   ]
  },
  {
   "cell_type": "markdown",
   "id": "e4022b56",
   "metadata": {
    "ExecuteTime": {
     "end_time": "2022-05-02T15:59:40.585968Z",
     "start_time": "2022-05-02T15:59:40.573003Z"
    }
   },
   "source": [
    "## 2. 이제 본격적으로 시뮬레이션 코드입니다. 밑의 코드는 코스피 지수와 TLT(미국채 ETF), DBC(원자재 ETF)를 불러오는 코드입니다.\n",
    "\n",
    "### start_date= 시뮬레이션 시작 날짜입니다.\n",
    "### end_date = 시뮬레이션 종료 날짜입니다.\n",
    "### 저장할 데이터는 시작 날짜의 종가 대비 종료 날짜의 종가의 수익률입니다."
   ]
  },
  {
   "cell_type": "code",
   "execution_count": 92,
   "id": "4486f041",
   "metadata": {
    "ExecuteTime": {
     "end_time": "2022-05-03T04:32:17.122028Z",
     "start_time": "2022-05-03T04:31:31.729702Z"
    }
   },
   "outputs": [],
   "source": [
    "\n",
    "\n",
    "start_date = '2020-04-29'\n",
    "end_date = '2022-04-29'\n",
    "\n",
    "df_stock = wb.DataReader('^KS11', \"yahoo\",start_date, end_date).Close\n",
    "\n",
    "df_bond = wb.DataReader('TLT', \"yahoo\",start_date, end_date).Close\n",
    "\n",
    "df_mat = wb.DataReader('DBC', \"yahoo\",start_date, end_date).Close"
   ]
  },
  {
   "cell_type": "code",
   "execution_count": 93,
   "id": "33fd293f",
   "metadata": {
    "ExecuteTime": {
     "end_time": "2022-05-03T04:32:17.136990Z",
     "start_time": "2022-05-03T04:32:17.123029Z"
    }
   },
   "outputs": [
    {
     "data": {
      "text/plain": [
       "Date\n",
       "2020-05-04    0.973202\n",
       "2020-05-06    0.990347\n",
       "2020-05-07    0.990270\n",
       "2020-05-08    0.999107\n",
       "2020-05-11    0.993756\n",
       "                ...   \n",
       "2022-04-25    1.364338\n",
       "2022-04-26    1.370078\n",
       "2022-04-27    1.355060\n",
       "2022-04-28    1.369657\n",
       "2022-04-29    1.383808\n",
       "Name: Close, Length: 493, dtype: float64"
      ]
     },
     "execution_count": 93,
     "metadata": {},
     "output_type": "execute_result"
    }
   ],
   "source": [
    "((df_bond/df_bond.shift(1))).cumprod().dropna()\n",
    "((df_mat/df_mat.shift(1))).cumprod().dropna()\n",
    "((df_stock/df_stock.shift(1))).cumprod().dropna()"
   ]
  },
  {
   "cell_type": "code",
   "execution_count": null,
   "id": "464d541a",
   "metadata": {},
   "outputs": [],
   "source": []
  },
  {
   "cell_type": "code",
   "execution_count": 157,
   "id": "b10c67fa",
   "metadata": {},
   "outputs": [],
   "source": [
    "#mdd,dd 구하는 함수\n",
    "def dd_plot(data,window):\n",
    "    \n",
    "    max_in_window= data.rolling(window,min_periods=1).max()\n",
    "    dd=(data/max_in_window -1.0) * 100\n",
    "    mdd=dd.rolling(window,min_periods=1).min()\n",
    "    return dd , mdd"
   ]
  },
  {
   "cell_type": "markdown",
   "id": "951cff70",
   "metadata": {},
   "source": [
    "## 직접 제작한 port_system 객체를 설정한뒤 주식 비중을 0.1~0.9까지 움직이는데, 이에 따라 채권비중을 조절해가며 백테스팅 결과를 save 함수로 저장해줍니다."
   ]
  },
  {
   "cell_type": "code",
   "execution_count": 160,
   "id": "5a10255a",
   "metadata": {
    "ExecuteTime": {
     "end_time": "2022-05-03T04:33:55.202966Z",
     "start_time": "2022-05-03T04:33:55.179729Z"
    }
   },
   "outputs": [
    {
     "name": "stderr",
     "output_type": "stream",
     "text": [
      "C:\\Users\\User\\anaconda3\\lib\\site-packages\\numpy\\core\\fromnumeric.py:84: FutureWarning: In a future version, DataFrame.min(axis=None) will return a scalar min over the entire DataFrame. To retain the old behavior, use 'frame.min(axis=0)' or just 'frame.min()'\n",
      "  return reduction(axis=axis, out=out, **passkwargs)\n",
      "C:\\Users\\User\\anaconda3\\lib\\site-packages\\numpy\\core\\fromnumeric.py:3438: FutureWarning: In a future version, DataFrame.mean(axis=None) will return a scalar mean over the entire DataFrame. To retain the old behavior, use 'frame.mean(axis=0)' or just 'frame.mean()'\n",
      "  return mean(axis=axis, dtype=dtype, out=out, **kwargs)\n",
      "C:\\Users\\User\\anaconda3\\lib\\site-packages\\numpy\\core\\fromnumeric.py:84: FutureWarning: In a future version, DataFrame.min(axis=None) will return a scalar min over the entire DataFrame. To retain the old behavior, use 'frame.min(axis=0)' or just 'frame.min()'\n",
      "  return reduction(axis=axis, out=out, **passkwargs)\n",
      "C:\\Users\\User\\anaconda3\\lib\\site-packages\\numpy\\core\\fromnumeric.py:3438: FutureWarning: In a future version, DataFrame.mean(axis=None) will return a scalar mean over the entire DataFrame. To retain the old behavior, use 'frame.mean(axis=0)' or just 'frame.mean()'\n",
      "  return mean(axis=axis, dtype=dtype, out=out, **kwargs)\n",
      "C:\\Users\\User\\anaconda3\\lib\\site-packages\\numpy\\core\\fromnumeric.py:84: FutureWarning: In a future version, DataFrame.min(axis=None) will return a scalar min over the entire DataFrame. To retain the old behavior, use 'frame.min(axis=0)' or just 'frame.min()'\n",
      "  return reduction(axis=axis, out=out, **passkwargs)\n",
      "C:\\Users\\User\\anaconda3\\lib\\site-packages\\numpy\\core\\fromnumeric.py:3438: FutureWarning: In a future version, DataFrame.mean(axis=None) will return a scalar mean over the entire DataFrame. To retain the old behavior, use 'frame.mean(axis=0)' or just 'frame.mean()'\n",
      "  return mean(axis=axis, dtype=dtype, out=out, **kwargs)\n"
     ]
    },
    {
     "name": "stdout",
     "output_type": "stream",
     "text": [
      "0.1,0.8\n",
      "0.1,0.7\n",
      "0.1,0.6\n"
     ]
    },
    {
     "name": "stderr",
     "output_type": "stream",
     "text": [
      "C:\\Users\\User\\anaconda3\\lib\\site-packages\\numpy\\core\\fromnumeric.py:84: FutureWarning: In a future version, DataFrame.min(axis=None) will return a scalar min over the entire DataFrame. To retain the old behavior, use 'frame.min(axis=0)' or just 'frame.min()'\n",
      "  return reduction(axis=axis, out=out, **passkwargs)\n",
      "C:\\Users\\User\\anaconda3\\lib\\site-packages\\numpy\\core\\fromnumeric.py:3438: FutureWarning: In a future version, DataFrame.mean(axis=None) will return a scalar mean over the entire DataFrame. To retain the old behavior, use 'frame.mean(axis=0)' or just 'frame.mean()'\n",
      "  return mean(axis=axis, dtype=dtype, out=out, **kwargs)\n",
      "C:\\Users\\User\\anaconda3\\lib\\site-packages\\numpy\\core\\fromnumeric.py:84: FutureWarning: In a future version, DataFrame.min(axis=None) will return a scalar min over the entire DataFrame. To retain the old behavior, use 'frame.min(axis=0)' or just 'frame.min()'\n",
      "  return reduction(axis=axis, out=out, **passkwargs)\n",
      "C:\\Users\\User\\anaconda3\\lib\\site-packages\\numpy\\core\\fromnumeric.py:3438: FutureWarning: In a future version, DataFrame.mean(axis=None) will return a scalar mean over the entire DataFrame. To retain the old behavior, use 'frame.mean(axis=0)' or just 'frame.mean()'\n",
      "  return mean(axis=axis, dtype=dtype, out=out, **kwargs)\n",
      "C:\\Users\\User\\anaconda3\\lib\\site-packages\\numpy\\core\\fromnumeric.py:84: FutureWarning: In a future version, DataFrame.min(axis=None) will return a scalar min over the entire DataFrame. To retain the old behavior, use 'frame.min(axis=0)' or just 'frame.min()'\n",
      "  return reduction(axis=axis, out=out, **passkwargs)\n",
      "C:\\Users\\User\\anaconda3\\lib\\site-packages\\numpy\\core\\fromnumeric.py:3438: FutureWarning: In a future version, DataFrame.mean(axis=None) will return a scalar mean over the entire DataFrame. To retain the old behavior, use 'frame.mean(axis=0)' or just 'frame.mean()'\n",
      "  return mean(axis=axis, dtype=dtype, out=out, **kwargs)\n"
     ]
    },
    {
     "name": "stdout",
     "output_type": "stream",
     "text": [
      "0.1,0.5\n",
      "0.1,0.4\n",
      "0.1,0.3\n",
      "0.1,0.2\n"
     ]
    },
    {
     "name": "stderr",
     "output_type": "stream",
     "text": [
      "C:\\Users\\User\\anaconda3\\lib\\site-packages\\numpy\\core\\fromnumeric.py:84: FutureWarning: In a future version, DataFrame.min(axis=None) will return a scalar min over the entire DataFrame. To retain the old behavior, use 'frame.min(axis=0)' or just 'frame.min()'\n",
      "  return reduction(axis=axis, out=out, **passkwargs)\n",
      "C:\\Users\\User\\anaconda3\\lib\\site-packages\\numpy\\core\\fromnumeric.py:3438: FutureWarning: In a future version, DataFrame.mean(axis=None) will return a scalar mean over the entire DataFrame. To retain the old behavior, use 'frame.mean(axis=0)' or just 'frame.mean()'\n",
      "  return mean(axis=axis, dtype=dtype, out=out, **kwargs)\n",
      "C:\\Users\\User\\anaconda3\\lib\\site-packages\\numpy\\core\\fromnumeric.py:84: FutureWarning: In a future version, DataFrame.min(axis=None) will return a scalar min over the entire DataFrame. To retain the old behavior, use 'frame.min(axis=0)' or just 'frame.min()'\n",
      "  return reduction(axis=axis, out=out, **passkwargs)\n",
      "C:\\Users\\User\\anaconda3\\lib\\site-packages\\numpy\\core\\fromnumeric.py:3438: FutureWarning: In a future version, DataFrame.mean(axis=None) will return a scalar mean over the entire DataFrame. To retain the old behavior, use 'frame.mean(axis=0)' or just 'frame.mean()'\n",
      "  return mean(axis=axis, dtype=dtype, out=out, **kwargs)\n",
      "C:\\Users\\User\\anaconda3\\lib\\site-packages\\numpy\\core\\fromnumeric.py:84: FutureWarning: In a future version, DataFrame.min(axis=None) will return a scalar min over the entire DataFrame. To retain the old behavior, use 'frame.min(axis=0)' or just 'frame.min()'\n",
      "  return reduction(axis=axis, out=out, **passkwargs)\n",
      "C:\\Users\\User\\anaconda3\\lib\\site-packages\\numpy\\core\\fromnumeric.py:3438: FutureWarning: In a future version, DataFrame.mean(axis=None) will return a scalar mean over the entire DataFrame. To retain the old behavior, use 'frame.mean(axis=0)' or just 'frame.mean()'\n",
      "  return mean(axis=axis, dtype=dtype, out=out, **kwargs)\n"
     ]
    },
    {
     "name": "stdout",
     "output_type": "stream",
     "text": [
      "0.1,0.1\n",
      "0.2,0.7\n",
      "0.2,0.6\n"
     ]
    },
    {
     "name": "stderr",
     "output_type": "stream",
     "text": [
      "C:\\Users\\User\\anaconda3\\lib\\site-packages\\numpy\\core\\fromnumeric.py:84: FutureWarning: In a future version, DataFrame.min(axis=None) will return a scalar min over the entire DataFrame. To retain the old behavior, use 'frame.min(axis=0)' or just 'frame.min()'\n",
      "  return reduction(axis=axis, out=out, **passkwargs)\n",
      "C:\\Users\\User\\anaconda3\\lib\\site-packages\\numpy\\core\\fromnumeric.py:3438: FutureWarning: In a future version, DataFrame.mean(axis=None) will return a scalar mean over the entire DataFrame. To retain the old behavior, use 'frame.mean(axis=0)' or just 'frame.mean()'\n",
      "  return mean(axis=axis, dtype=dtype, out=out, **kwargs)\n",
      "C:\\Users\\User\\anaconda3\\lib\\site-packages\\numpy\\core\\fromnumeric.py:84: FutureWarning: In a future version, DataFrame.min(axis=None) will return a scalar min over the entire DataFrame. To retain the old behavior, use 'frame.min(axis=0)' or just 'frame.min()'\n",
      "  return reduction(axis=axis, out=out, **passkwargs)\n",
      "C:\\Users\\User\\anaconda3\\lib\\site-packages\\numpy\\core\\fromnumeric.py:3438: FutureWarning: In a future version, DataFrame.mean(axis=None) will return a scalar mean over the entire DataFrame. To retain the old behavior, use 'frame.mean(axis=0)' or just 'frame.mean()'\n",
      "  return mean(axis=axis, dtype=dtype, out=out, **kwargs)\n",
      "C:\\Users\\User\\anaconda3\\lib\\site-packages\\numpy\\core\\fromnumeric.py:84: FutureWarning: In a future version, DataFrame.min(axis=None) will return a scalar min over the entire DataFrame. To retain the old behavior, use 'frame.min(axis=0)' or just 'frame.min()'\n",
      "  return reduction(axis=axis, out=out, **passkwargs)\n",
      "C:\\Users\\User\\anaconda3\\lib\\site-packages\\numpy\\core\\fromnumeric.py:3438: FutureWarning: In a future version, DataFrame.mean(axis=None) will return a scalar mean over the entire DataFrame. To retain the old behavior, use 'frame.mean(axis=0)' or just 'frame.mean()'\n",
      "  return mean(axis=axis, dtype=dtype, out=out, **kwargs)\n"
     ]
    },
    {
     "name": "stdout",
     "output_type": "stream",
     "text": [
      "0.2,0.5\n",
      "0.2,0.4\n",
      "0.2,0.3\n"
     ]
    },
    {
     "name": "stderr",
     "output_type": "stream",
     "text": [
      "C:\\Users\\User\\anaconda3\\lib\\site-packages\\numpy\\core\\fromnumeric.py:84: FutureWarning: In a future version, DataFrame.min(axis=None) will return a scalar min over the entire DataFrame. To retain the old behavior, use 'frame.min(axis=0)' or just 'frame.min()'\n",
      "  return reduction(axis=axis, out=out, **passkwargs)\n",
      "C:\\Users\\User\\anaconda3\\lib\\site-packages\\numpy\\core\\fromnumeric.py:3438: FutureWarning: In a future version, DataFrame.mean(axis=None) will return a scalar mean over the entire DataFrame. To retain the old behavior, use 'frame.mean(axis=0)' or just 'frame.mean()'\n",
      "  return mean(axis=axis, dtype=dtype, out=out, **kwargs)\n",
      "C:\\Users\\User\\anaconda3\\lib\\site-packages\\numpy\\core\\fromnumeric.py:84: FutureWarning: In a future version, DataFrame.min(axis=None) will return a scalar min over the entire DataFrame. To retain the old behavior, use 'frame.min(axis=0)' or just 'frame.min()'\n",
      "  return reduction(axis=axis, out=out, **passkwargs)\n",
      "C:\\Users\\User\\anaconda3\\lib\\site-packages\\numpy\\core\\fromnumeric.py:3438: FutureWarning: In a future version, DataFrame.mean(axis=None) will return a scalar mean over the entire DataFrame. To retain the old behavior, use 'frame.mean(axis=0)' or just 'frame.mean()'\n",
      "  return mean(axis=axis, dtype=dtype, out=out, **kwargs)\n",
      "C:\\Users\\User\\anaconda3\\lib\\site-packages\\numpy\\core\\fromnumeric.py:84: FutureWarning: In a future version, DataFrame.min(axis=None) will return a scalar min over the entire DataFrame. To retain the old behavior, use 'frame.min(axis=0)' or just 'frame.min()'\n",
      "  return reduction(axis=axis, out=out, **passkwargs)\n",
      "C:\\Users\\User\\anaconda3\\lib\\site-packages\\numpy\\core\\fromnumeric.py:3438: FutureWarning: In a future version, DataFrame.mean(axis=None) will return a scalar mean over the entire DataFrame. To retain the old behavior, use 'frame.mean(axis=0)' or just 'frame.mean()'\n",
      "  return mean(axis=axis, dtype=dtype, out=out, **kwargs)\n"
     ]
    },
    {
     "name": "stdout",
     "output_type": "stream",
     "text": [
      "0.2,0.2\n",
      "0.2,0.1\n",
      "0.3,0.6\n",
      "0.3,0.5\n"
     ]
    },
    {
     "name": "stderr",
     "output_type": "stream",
     "text": [
      "C:\\Users\\User\\anaconda3\\lib\\site-packages\\numpy\\core\\fromnumeric.py:84: FutureWarning: In a future version, DataFrame.min(axis=None) will return a scalar min over the entire DataFrame. To retain the old behavior, use 'frame.min(axis=0)' or just 'frame.min()'\n",
      "  return reduction(axis=axis, out=out, **passkwargs)\n",
      "C:\\Users\\User\\anaconda3\\lib\\site-packages\\numpy\\core\\fromnumeric.py:3438: FutureWarning: In a future version, DataFrame.mean(axis=None) will return a scalar mean over the entire DataFrame. To retain the old behavior, use 'frame.mean(axis=0)' or just 'frame.mean()'\n",
      "  return mean(axis=axis, dtype=dtype, out=out, **kwargs)\n",
      "C:\\Users\\User\\anaconda3\\lib\\site-packages\\numpy\\core\\fromnumeric.py:84: FutureWarning: In a future version, DataFrame.min(axis=None) will return a scalar min over the entire DataFrame. To retain the old behavior, use 'frame.min(axis=0)' or just 'frame.min()'\n",
      "  return reduction(axis=axis, out=out, **passkwargs)\n",
      "C:\\Users\\User\\anaconda3\\lib\\site-packages\\numpy\\core\\fromnumeric.py:3438: FutureWarning: In a future version, DataFrame.mean(axis=None) will return a scalar mean over the entire DataFrame. To retain the old behavior, use 'frame.mean(axis=0)' or just 'frame.mean()'\n",
      "  return mean(axis=axis, dtype=dtype, out=out, **kwargs)\n",
      "C:\\Users\\User\\anaconda3\\lib\\site-packages\\numpy\\core\\fromnumeric.py:84: FutureWarning: In a future version, DataFrame.min(axis=None) will return a scalar min over the entire DataFrame. To retain the old behavior, use 'frame.min(axis=0)' or just 'frame.min()'\n",
      "  return reduction(axis=axis, out=out, **passkwargs)\n",
      "C:\\Users\\User\\anaconda3\\lib\\site-packages\\numpy\\core\\fromnumeric.py:3438: FutureWarning: In a future version, DataFrame.mean(axis=None) will return a scalar mean over the entire DataFrame. To retain the old behavior, use 'frame.mean(axis=0)' or just 'frame.mean()'\n",
      "  return mean(axis=axis, dtype=dtype, out=out, **kwargs)\n",
      "C:\\Users\\User\\anaconda3\\lib\\site-packages\\numpy\\core\\fromnumeric.py:84: FutureWarning: In a future version, DataFrame.min(axis=None) will return a scalar min over the entire DataFrame. To retain the old behavior, use 'frame.min(axis=0)' or just 'frame.min()'\n",
      "  return reduction(axis=axis, out=out, **passkwargs)\n"
     ]
    },
    {
     "name": "stdout",
     "output_type": "stream",
     "text": [
      "0.3,0.4\n",
      "0.3,0.3\n",
      "0.3,0.2\n"
     ]
    },
    {
     "name": "stderr",
     "output_type": "stream",
     "text": [
      "C:\\Users\\User\\anaconda3\\lib\\site-packages\\numpy\\core\\fromnumeric.py:3438: FutureWarning: In a future version, DataFrame.mean(axis=None) will return a scalar mean over the entire DataFrame. To retain the old behavior, use 'frame.mean(axis=0)' or just 'frame.mean()'\n",
      "  return mean(axis=axis, dtype=dtype, out=out, **kwargs)\n",
      "C:\\Users\\User\\anaconda3\\lib\\site-packages\\numpy\\core\\fromnumeric.py:84: FutureWarning: In a future version, DataFrame.min(axis=None) will return a scalar min over the entire DataFrame. To retain the old behavior, use 'frame.min(axis=0)' or just 'frame.min()'\n",
      "  return reduction(axis=axis, out=out, **passkwargs)\n",
      "C:\\Users\\User\\anaconda3\\lib\\site-packages\\numpy\\core\\fromnumeric.py:3438: FutureWarning: In a future version, DataFrame.mean(axis=None) will return a scalar mean over the entire DataFrame. To retain the old behavior, use 'frame.mean(axis=0)' or just 'frame.mean()'\n",
      "  return mean(axis=axis, dtype=dtype, out=out, **kwargs)\n",
      "C:\\Users\\User\\anaconda3\\lib\\site-packages\\numpy\\core\\fromnumeric.py:84: FutureWarning: In a future version, DataFrame.min(axis=None) will return a scalar min over the entire DataFrame. To retain the old behavior, use 'frame.min(axis=0)' or just 'frame.min()'\n",
      "  return reduction(axis=axis, out=out, **passkwargs)\n",
      "C:\\Users\\User\\anaconda3\\lib\\site-packages\\numpy\\core\\fromnumeric.py:3438: FutureWarning: In a future version, DataFrame.mean(axis=None) will return a scalar mean over the entire DataFrame. To retain the old behavior, use 'frame.mean(axis=0)' or just 'frame.mean()'\n",
      "  return mean(axis=axis, dtype=dtype, out=out, **kwargs)\n",
      "C:\\Users\\User\\anaconda3\\lib\\site-packages\\numpy\\core\\fromnumeric.py:84: FutureWarning: In a future version, DataFrame.min(axis=None) will return a scalar min over the entire DataFrame. To retain the old behavior, use 'frame.min(axis=0)' or just 'frame.min()'\n",
      "  return reduction(axis=axis, out=out, **passkwargs)\n"
     ]
    },
    {
     "name": "stdout",
     "output_type": "stream",
     "text": [
      "0.3,0.1\n",
      "0.4,0.5\n",
      "0.4,0.4\n"
     ]
    },
    {
     "name": "stderr",
     "output_type": "stream",
     "text": [
      "C:\\Users\\User\\anaconda3\\lib\\site-packages\\numpy\\core\\fromnumeric.py:3438: FutureWarning: In a future version, DataFrame.mean(axis=None) will return a scalar mean over the entire DataFrame. To retain the old behavior, use 'frame.mean(axis=0)' or just 'frame.mean()'\n",
      "  return mean(axis=axis, dtype=dtype, out=out, **kwargs)\n",
      "C:\\Users\\User\\anaconda3\\lib\\site-packages\\numpy\\core\\fromnumeric.py:84: FutureWarning: In a future version, DataFrame.min(axis=None) will return a scalar min over the entire DataFrame. To retain the old behavior, use 'frame.min(axis=0)' or just 'frame.min()'\n",
      "  return reduction(axis=axis, out=out, **passkwargs)\n",
      "C:\\Users\\User\\anaconda3\\lib\\site-packages\\numpy\\core\\fromnumeric.py:3438: FutureWarning: In a future version, DataFrame.mean(axis=None) will return a scalar mean over the entire DataFrame. To retain the old behavior, use 'frame.mean(axis=0)' or just 'frame.mean()'\n",
      "  return mean(axis=axis, dtype=dtype, out=out, **kwargs)\n",
      "C:\\Users\\User\\anaconda3\\lib\\site-packages\\numpy\\core\\fromnumeric.py:84: FutureWarning: In a future version, DataFrame.min(axis=None) will return a scalar min over the entire DataFrame. To retain the old behavior, use 'frame.min(axis=0)' or just 'frame.min()'\n",
      "  return reduction(axis=axis, out=out, **passkwargs)\n",
      "C:\\Users\\User\\anaconda3\\lib\\site-packages\\numpy\\core\\fromnumeric.py:3438: FutureWarning: In a future version, DataFrame.mean(axis=None) will return a scalar mean over the entire DataFrame. To retain the old behavior, use 'frame.mean(axis=0)' or just 'frame.mean()'\n",
      "  return mean(axis=axis, dtype=dtype, out=out, **kwargs)\n",
      "C:\\Users\\User\\anaconda3\\lib\\site-packages\\numpy\\core\\fromnumeric.py:84: FutureWarning: In a future version, DataFrame.min(axis=None) will return a scalar min over the entire DataFrame. To retain the old behavior, use 'frame.min(axis=0)' or just 'frame.min()'\n",
      "  return reduction(axis=axis, out=out, **passkwargs)\n",
      "C:\\Users\\User\\anaconda3\\lib\\site-packages\\numpy\\core\\fromnumeric.py:3438: FutureWarning: In a future version, DataFrame.mean(axis=None) will return a scalar mean over the entire DataFrame. To retain the old behavior, use 'frame.mean(axis=0)' or just 'frame.mean()'\n",
      "  return mean(axis=axis, dtype=dtype, out=out, **kwargs)\n"
     ]
    },
    {
     "name": "stdout",
     "output_type": "stream",
     "text": [
      "0.4,0.3\n",
      "0.4,0.2\n",
      "0.4,0.1\n"
     ]
    },
    {
     "name": "stderr",
     "output_type": "stream",
     "text": [
      "C:\\Users\\User\\anaconda3\\lib\\site-packages\\numpy\\core\\fromnumeric.py:84: FutureWarning: In a future version, DataFrame.min(axis=None) will return a scalar min over the entire DataFrame. To retain the old behavior, use 'frame.min(axis=0)' or just 'frame.min()'\n",
      "  return reduction(axis=axis, out=out, **passkwargs)\n",
      "C:\\Users\\User\\anaconda3\\lib\\site-packages\\numpy\\core\\fromnumeric.py:3438: FutureWarning: In a future version, DataFrame.mean(axis=None) will return a scalar mean over the entire DataFrame. To retain the old behavior, use 'frame.mean(axis=0)' or just 'frame.mean()'\n",
      "  return mean(axis=axis, dtype=dtype, out=out, **kwargs)\n",
      "C:\\Users\\User\\anaconda3\\lib\\site-packages\\numpy\\core\\fromnumeric.py:84: FutureWarning: In a future version, DataFrame.min(axis=None) will return a scalar min over the entire DataFrame. To retain the old behavior, use 'frame.min(axis=0)' or just 'frame.min()'\n",
      "  return reduction(axis=axis, out=out, **passkwargs)\n",
      "C:\\Users\\User\\anaconda3\\lib\\site-packages\\numpy\\core\\fromnumeric.py:3438: FutureWarning: In a future version, DataFrame.mean(axis=None) will return a scalar mean over the entire DataFrame. To retain the old behavior, use 'frame.mean(axis=0)' or just 'frame.mean()'\n",
      "  return mean(axis=axis, dtype=dtype, out=out, **kwargs)\n",
      "C:\\Users\\User\\anaconda3\\lib\\site-packages\\numpy\\core\\fromnumeric.py:84: FutureWarning: In a future version, DataFrame.min(axis=None) will return a scalar min over the entire DataFrame. To retain the old behavior, use 'frame.min(axis=0)' or just 'frame.min()'\n",
      "  return reduction(axis=axis, out=out, **passkwargs)\n",
      "C:\\Users\\User\\anaconda3\\lib\\site-packages\\numpy\\core\\fromnumeric.py:3438: FutureWarning: In a future version, DataFrame.mean(axis=None) will return a scalar mean over the entire DataFrame. To retain the old behavior, use 'frame.mean(axis=0)' or just 'frame.mean()'\n",
      "  return mean(axis=axis, dtype=dtype, out=out, **kwargs)\n"
     ]
    },
    {
     "name": "stdout",
     "output_type": "stream",
     "text": [
      "0.5,0.4\n",
      "0.5,0.3\n",
      "0.5,0.2\n"
     ]
    },
    {
     "name": "stderr",
     "output_type": "stream",
     "text": [
      "C:\\Users\\User\\anaconda3\\lib\\site-packages\\numpy\\core\\fromnumeric.py:84: FutureWarning: In a future version, DataFrame.min(axis=None) will return a scalar min over the entire DataFrame. To retain the old behavior, use 'frame.min(axis=0)' or just 'frame.min()'\n",
      "  return reduction(axis=axis, out=out, **passkwargs)\n",
      "C:\\Users\\User\\anaconda3\\lib\\site-packages\\numpy\\core\\fromnumeric.py:3438: FutureWarning: In a future version, DataFrame.mean(axis=None) will return a scalar mean over the entire DataFrame. To retain the old behavior, use 'frame.mean(axis=0)' or just 'frame.mean()'\n",
      "  return mean(axis=axis, dtype=dtype, out=out, **kwargs)\n",
      "C:\\Users\\User\\anaconda3\\lib\\site-packages\\numpy\\core\\fromnumeric.py:84: FutureWarning: In a future version, DataFrame.min(axis=None) will return a scalar min over the entire DataFrame. To retain the old behavior, use 'frame.min(axis=0)' or just 'frame.min()'\n",
      "  return reduction(axis=axis, out=out, **passkwargs)\n",
      "C:\\Users\\User\\anaconda3\\lib\\site-packages\\numpy\\core\\fromnumeric.py:3438: FutureWarning: In a future version, DataFrame.mean(axis=None) will return a scalar mean over the entire DataFrame. To retain the old behavior, use 'frame.mean(axis=0)' or just 'frame.mean()'\n",
      "  return mean(axis=axis, dtype=dtype, out=out, **kwargs)\n",
      "C:\\Users\\User\\anaconda3\\lib\\site-packages\\numpy\\core\\fromnumeric.py:84: FutureWarning: In a future version, DataFrame.min(axis=None) will return a scalar min over the entire DataFrame. To retain the old behavior, use 'frame.min(axis=0)' or just 'frame.min()'\n",
      "  return reduction(axis=axis, out=out, **passkwargs)\n",
      "C:\\Users\\User\\anaconda3\\lib\\site-packages\\numpy\\core\\fromnumeric.py:3438: FutureWarning: In a future version, DataFrame.mean(axis=None) will return a scalar mean over the entire DataFrame. To retain the old behavior, use 'frame.mean(axis=0)' or just 'frame.mean()'\n",
      "  return mean(axis=axis, dtype=dtype, out=out, **kwargs)\n"
     ]
    },
    {
     "name": "stdout",
     "output_type": "stream",
     "text": [
      "0.5,0.1\n",
      "0.6,0.3\n",
      "0.6,0.2\n",
      "0.6,0.1\n"
     ]
    },
    {
     "name": "stderr",
     "output_type": "stream",
     "text": [
      "C:\\Users\\User\\anaconda3\\lib\\site-packages\\numpy\\core\\fromnumeric.py:84: FutureWarning: In a future version, DataFrame.min(axis=None) will return a scalar min over the entire DataFrame. To retain the old behavior, use 'frame.min(axis=0)' or just 'frame.min()'\n",
      "  return reduction(axis=axis, out=out, **passkwargs)\n",
      "C:\\Users\\User\\anaconda3\\lib\\site-packages\\numpy\\core\\fromnumeric.py:3438: FutureWarning: In a future version, DataFrame.mean(axis=None) will return a scalar mean over the entire DataFrame. To retain the old behavior, use 'frame.mean(axis=0)' or just 'frame.mean()'\n",
      "  return mean(axis=axis, dtype=dtype, out=out, **kwargs)\n",
      "C:\\Users\\User\\anaconda3\\lib\\site-packages\\numpy\\core\\fromnumeric.py:84: FutureWarning: In a future version, DataFrame.min(axis=None) will return a scalar min over the entire DataFrame. To retain the old behavior, use 'frame.min(axis=0)' or just 'frame.min()'\n",
      "  return reduction(axis=axis, out=out, **passkwargs)\n",
      "C:\\Users\\User\\anaconda3\\lib\\site-packages\\numpy\\core\\fromnumeric.py:3438: FutureWarning: In a future version, DataFrame.mean(axis=None) will return a scalar mean over the entire DataFrame. To retain the old behavior, use 'frame.mean(axis=0)' or just 'frame.mean()'\n",
      "  return mean(axis=axis, dtype=dtype, out=out, **kwargs)\n",
      "C:\\Users\\User\\anaconda3\\lib\\site-packages\\numpy\\core\\fromnumeric.py:84: FutureWarning: In a future version, DataFrame.min(axis=None) will return a scalar min over the entire DataFrame. To retain the old behavior, use 'frame.min(axis=0)' or just 'frame.min()'\n",
      "  return reduction(axis=axis, out=out, **passkwargs)\n",
      "C:\\Users\\User\\anaconda3\\lib\\site-packages\\numpy\\core\\fromnumeric.py:3438: FutureWarning: In a future version, DataFrame.mean(axis=None) will return a scalar mean over the entire DataFrame. To retain the old behavior, use 'frame.mean(axis=0)' or just 'frame.mean()'\n",
      "  return mean(axis=axis, dtype=dtype, out=out, **kwargs)\n"
     ]
    },
    {
     "name": "stdout",
     "output_type": "stream",
     "text": [
      "0.7,0.3\n",
      "0.7,0.2\n",
      "0.7,0.1\n",
      "0.8,0.1\n"
     ]
    },
    {
     "name": "stderr",
     "output_type": "stream",
     "text": [
      "C:\\Users\\User\\anaconda3\\lib\\site-packages\\numpy\\core\\fromnumeric.py:84: FutureWarning: In a future version, DataFrame.min(axis=None) will return a scalar min over the entire DataFrame. To retain the old behavior, use 'frame.min(axis=0)' or just 'frame.min()'\n",
      "  return reduction(axis=axis, out=out, **passkwargs)\n",
      "C:\\Users\\User\\anaconda3\\lib\\site-packages\\numpy\\core\\fromnumeric.py:3438: FutureWarning: In a future version, DataFrame.mean(axis=None) will return a scalar mean over the entire DataFrame. To retain the old behavior, use 'frame.mean(axis=0)' or just 'frame.mean()'\n",
      "  return mean(axis=axis, dtype=dtype, out=out, **kwargs)\n",
      "C:\\Users\\User\\anaconda3\\lib\\site-packages\\numpy\\core\\fromnumeric.py:84: FutureWarning: In a future version, DataFrame.min(axis=None) will return a scalar min over the entire DataFrame. To retain the old behavior, use 'frame.min(axis=0)' or just 'frame.min()'\n",
      "  return reduction(axis=axis, out=out, **passkwargs)\n",
      "C:\\Users\\User\\anaconda3\\lib\\site-packages\\numpy\\core\\fromnumeric.py:3438: FutureWarning: In a future version, DataFrame.mean(axis=None) will return a scalar mean over the entire DataFrame. To retain the old behavior, use 'frame.mean(axis=0)' or just 'frame.mean()'\n",
      "  return mean(axis=axis, dtype=dtype, out=out, **kwargs)\n",
      "C:\\Users\\User\\anaconda3\\lib\\site-packages\\numpy\\core\\fromnumeric.py:84: FutureWarning: In a future version, DataFrame.min(axis=None) will return a scalar min over the entire DataFrame. To retain the old behavior, use 'frame.min(axis=0)' or just 'frame.min()'\n",
      "  return reduction(axis=axis, out=out, **passkwargs)\n",
      "C:\\Users\\User\\anaconda3\\lib\\site-packages\\numpy\\core\\fromnumeric.py:3438: FutureWarning: In a future version, DataFrame.mean(axis=None) will return a scalar mean over the entire DataFrame. To retain the old behavior, use 'frame.mean(axis=0)' or just 'frame.mean()'\n",
      "  return mean(axis=axis, dtype=dtype, out=out, **kwargs)\n"
     ]
    }
   ],
   "source": [
    "port_table = port_system(end_date,[\"수익률\",'샤프','mdd','dd'])\n",
    "\n",
    "\n",
    "for stock_ratio in np.arange(0.1, 1, 0.1):\n",
    "    stock_ratio=round(stock_ratio,2)\n",
    "    for bond_ratio in np.arange(1, 0, -0.1):\n",
    "        bond_ratio=round(bond_ratio,2)\n",
    "        mat_ratio=1-stock_ratio-bond_ratio\n",
    "        if mat_ratio<=0:\n",
    "            continue\n",
    "        \n",
    "        name = str(stock_ratio)+','+str(bond_ratio)\n",
    "        bond_profit= ((df_bond/df_bond.shift(1))).fillna(1).cumprod().dropna()\n",
    "        mat_profit=((df_mat/df_mat.shift(1))).fillna(1).cumprod().dropna()\n",
    "        stock_profit= ((df_stock/df_stock.shift(1))).cumprod().dropna()\n",
    "        profit_list = (stock_profit*stock_ratio + bond_profit*bond_ratio + mat_profit*mat_ratio).dropna()\n",
    "        money_list=[1000*i for i in profit_list]\n",
    "        last_profit=round(profit_list,2)[-1]\n",
    "        std=np.std(profit_list)\n",
    "        sharp_ratio=(last_profit-1)/std\n",
    "        dd,mdd= dd_plot(pd.DataFrame(money_list),window=30)\n",
    "        mdd=np.min(mdd)[0]\n",
    "        \n",
    "        dd=np.mean(dd)[0]\n",
    "        #print(name,type([last_profit,sharp_ratio,dd,mdd]))\n",
    "        print(str(name))\n",
    "        port_table.save(str(name),[round(last_profit,2),round(sharp_ratio,2),round(dd,2),round(mdd,2)])\n",
    "        "
   ]
  },
  {
   "cell_type": "markdown",
   "id": "c387c433",
   "metadata": {},
   "source": [
    "## 다음은 필요한 비중이 있는지 없는지 확인하는 코드입니다. 비중을 입력하면 해당 키에 맞게 value가 도출됩니다."
   ]
  },
  {
   "cell_type": "code",
   "execution_count": null,
   "id": "976b3cd1",
   "metadata": {},
   "outputs": [],
   "source": []
  },
  {
   "cell_type": "code",
   "execution_count": 161,
   "id": "6195ebb7",
   "metadata": {
    "ExecuteTime": {
     "end_time": "2022-05-03T04:33:59.367957Z",
     "start_time": "2022-05-03T04:33:55.728897Z"
    }
   },
   "outputs": [
    {
     "name": "stdout",
     "output_type": "stream",
     "text": [
      "주식채권비중을 입력하시오(ex. 0.1,0.3)0.1,0.3\n",
      "[1.92, 3.84, -1.46, -10.98]\n"
     ]
    }
   ],
   "source": [
    "error=True\n",
    "while error==True:\n",
    "    key=input(\"주식채권비중을 입력하시오(ex. 0.1,0.3)\" )\n",
    "    \n",
    "    p=re.compile('\\d+[.]+\\d+[,]+\\d+[.]+\\d')\n",
    "    if p.match(key):\n",
    "        error=False\n",
    "    else:\n",
    "        print(\"올바른 형식을 입력하세요!\")\n",
    "        \n",
    "    \n",
    "value=port_table.read(key)\n",
    "print(value)"
   ]
  },
  {
   "cell_type": "markdown",
   "id": "c76ae107",
   "metadata": {
    "ExecuteTime": {
     "end_time": "2022-05-02T17:17:56.710523Z",
     "start_time": "2022-05-02T17:17:56.701516Z"
    }
   },
   "source": [
    "## key_list는 data가 save 될때마다 저장을 해주게끔 하였습니다. 이유는 정렬을 할 때, 내부의 키값을 알아야지만 정렬이 가능하기에 변수로 저장해두었습니다."
   ]
  },
  {
   "cell_type": "code",
   "execution_count": 163,
   "id": "93791511",
   "metadata": {
    "ExecuteTime": {
     "end_time": "2022-05-03T04:34:00.495297Z",
     "start_time": "2022-05-03T04:34:00.477270Z"
    }
   },
   "outputs": [
    {
     "data": {
      "text/plain": [
       "['0.1,0.8',\n",
       " '0.1,0.7',\n",
       " '0.1,0.6',\n",
       " '0.1,0.5',\n",
       " '0.1,0.4',\n",
       " '0.1,0.3',\n",
       " '0.1,0.2',\n",
       " '0.1,0.1',\n",
       " '0.2,0.7',\n",
       " '0.2,0.6',\n",
       " '0.2,0.5',\n",
       " '0.2,0.4',\n",
       " '0.2,0.3',\n",
       " '0.2,0.2',\n",
       " '0.2,0.1',\n",
       " '0.3,0.6',\n",
       " '0.3,0.5',\n",
       " '0.3,0.4',\n",
       " '0.3,0.3',\n",
       " '0.3,0.2',\n",
       " '0.3,0.1',\n",
       " '0.4,0.5',\n",
       " '0.4,0.4',\n",
       " '0.4,0.3',\n",
       " '0.4,0.2',\n",
       " '0.4,0.1',\n",
       " '0.5,0.4',\n",
       " '0.5,0.3',\n",
       " '0.5,0.2',\n",
       " '0.5,0.1',\n",
       " '0.6,0.3',\n",
       " '0.6,0.2',\n",
       " '0.6,0.1',\n",
       " '0.7,0.3',\n",
       " '0.7,0.2',\n",
       " '0.7,0.1',\n",
       " '0.8,0.1']"
      ]
     },
     "execution_count": 163,
     "metadata": {},
     "output_type": "execute_result"
    }
   ],
   "source": [
    "port_table.key_list"
   ]
  },
  {
   "cell_type": "markdown",
   "id": "3b4e611c",
   "metadata": {},
   "source": [
    "## 다음은 필요없는 비중은 제거할 수 있는 코드입니다. key_list에서도 제거하는 코드를 class 안 함수에 추가해주었습니다."
   ]
  },
  {
   "cell_type": "code",
   "execution_count": 164,
   "id": "9dfe192f",
   "metadata": {
    "ExecuteTime": {
     "end_time": "2022-05-03T04:34:05.323009Z",
     "start_time": "2022-05-03T04:34:01.085376Z"
    }
   },
   "outputs": [
    {
     "name": "stdout",
     "output_type": "stream",
     "text": [
      "주식채권비중을 입력하시오(ex. 0.1,0.3)0.1,0.3\n",
      "value  [1.92, 3.84, -1.46, -10.98]\n",
      "데이터가 삭제되었습니다.\n",
      "port_table.read(key) : 키 값이 없습니다.\n"
     ]
    }
   ],
   "source": [
    "\n",
    "error=True\n",
    "while error==True:\n",
    "    key=input(\"주식채권비중을 입력하시오(ex. 0.1,0.3)\" )\n",
    "    \n",
    "    p=re.compile('\\d+[.]+\\d+[,]+\\d+[.]+\\d')\n",
    "    if p.match(key):\n",
    "        error=False\n",
    "    else:\n",
    "        print(\"올바른 형식을 입력하세요!\")\n",
    "\n",
    "print(\"value \", port_table.read(key))\n",
    "        \n",
    "port_table.delete(key)\n",
    "print('데이터가 삭제되었습니다.')\n",
    "print(\"port_table.read(key) : \" ,end=\"\")\n",
    "port_table.read(key)\n"
   ]
  },
  {
   "cell_type": "markdown",
   "id": "d00d1c34",
   "metadata": {},
   "source": [
    "## 다음은 정렬 코드입니다. ascending 변수를 이용해 오름차순 내림차순을 설정할 수 있습니다."
   ]
  },
  {
   "cell_type": "code",
   "execution_count": 166,
   "id": "635d8cbb",
   "metadata": {},
   "outputs": [
    {
     "data": {
      "text/plain": [
       "['수익률', '샤프', 'mdd', 'dd']"
      ]
     },
     "execution_count": 166,
     "metadata": {},
     "output_type": "execute_result"
    }
   ],
   "source": [
    "# 다음의 변수들을 기준으로 정렬을 시킬 수 있습니다.\n",
    "port_table.name_list"
   ]
  },
  {
   "cell_type": "code",
   "execution_count": 167,
   "id": "2863e22e",
   "metadata": {
    "ExecuteTime": {
     "end_time": "2022-05-03T04:34:06.672421Z",
     "start_time": "2022-05-03T04:34:06.654029Z"
    }
   },
   "outputs": [
    {
     "name": "stdout",
     "output_type": "stream",
     "text": [
      "수익률 기준으로 ascending False 으로 정렬합니다.\n",
      "0\n"
     ]
    }
   ],
   "source": [
    "arr=port_table.sort(value='수익률',ascending=False)\n"
   ]
  },
  {
   "cell_type": "code",
   "execution_count": 168,
   "id": "92e79bfe",
   "metadata": {
    "ExecuteTime": {
     "end_time": "2022-05-03T04:34:07.116455Z",
     "start_time": "2022-05-03T04:34:07.094507Z"
    }
   },
   "outputs": [
    {
     "data": {
      "text/html": [
       "<div>\n",
       "<style scoped>\n",
       "    .dataframe tbody tr th:only-of-type {\n",
       "        vertical-align: middle;\n",
       "    }\n",
       "\n",
       "    .dataframe tbody tr th {\n",
       "        vertical-align: top;\n",
       "    }\n",
       "\n",
       "    .dataframe thead th {\n",
       "        text-align: right;\n",
       "    }\n",
       "</style>\n",
       "<table border=\"1\" class=\"dataframe\">\n",
       "  <thead>\n",
       "    <tr style=\"text-align: right;\">\n",
       "      <th></th>\n",
       "      <th>weight(stock,bond)</th>\n",
       "      <th>수익률</th>\n",
       "    </tr>\n",
       "  </thead>\n",
       "  <tbody>\n",
       "    <tr>\n",
       "      <th>34</th>\n",
       "      <td>0.1,0.1</td>\n",
       "      <td>2.30</td>\n",
       "    </tr>\n",
       "    <tr>\n",
       "      <th>33</th>\n",
       "      <td>0.2,0.1</td>\n",
       "      <td>2.18</td>\n",
       "    </tr>\n",
       "    <tr>\n",
       "      <th>32</th>\n",
       "      <td>0.1,0.2</td>\n",
       "      <td>2.11</td>\n",
       "    </tr>\n",
       "    <tr>\n",
       "      <th>31</th>\n",
       "      <td>0.3,0.1</td>\n",
       "      <td>2.06</td>\n",
       "    </tr>\n",
       "    <tr>\n",
       "      <th>30</th>\n",
       "      <td>0.2,0.2</td>\n",
       "      <td>1.99</td>\n",
       "    </tr>\n",
       "    <tr>\n",
       "      <th>29</th>\n",
       "      <td>0.4,0.1</td>\n",
       "      <td>1.93</td>\n",
       "    </tr>\n",
       "    <tr>\n",
       "      <th>28</th>\n",
       "      <td>0.3,0.2</td>\n",
       "      <td>1.87</td>\n",
       "    </tr>\n",
       "    <tr>\n",
       "      <th>27</th>\n",
       "      <td>0.5,0.1</td>\n",
       "      <td>1.81</td>\n",
       "    </tr>\n",
       "    <tr>\n",
       "      <th>26</th>\n",
       "      <td>0.2,0.3</td>\n",
       "      <td>1.80</td>\n",
       "    </tr>\n",
       "    <tr>\n",
       "      <th>25</th>\n",
       "      <td>0.4,0.2</td>\n",
       "      <td>1.74</td>\n",
       "    </tr>\n",
       "    <tr>\n",
       "      <th>24</th>\n",
       "      <td>0.1,0.4</td>\n",
       "      <td>1.73</td>\n",
       "    </tr>\n",
       "    <tr>\n",
       "      <th>23</th>\n",
       "      <td>0.6,0.1</td>\n",
       "      <td>1.69</td>\n",
       "    </tr>\n",
       "    <tr>\n",
       "      <th>22</th>\n",
       "      <td>0.3,0.3</td>\n",
       "      <td>1.67</td>\n",
       "    </tr>\n",
       "    <tr>\n",
       "      <th>21</th>\n",
       "      <td>0.5,0.2</td>\n",
       "      <td>1.62</td>\n",
       "    </tr>\n",
       "    <tr>\n",
       "      <th>20</th>\n",
       "      <td>0.2,0.4</td>\n",
       "      <td>1.61</td>\n",
       "    </tr>\n",
       "    <tr>\n",
       "      <th>19</th>\n",
       "      <td>0.7,0.1</td>\n",
       "      <td>1.56</td>\n",
       "    </tr>\n",
       "    <tr>\n",
       "      <th>18</th>\n",
       "      <td>0.4,0.3</td>\n",
       "      <td>1.55</td>\n",
       "    </tr>\n",
       "    <tr>\n",
       "      <th>17</th>\n",
       "      <td>0.1,0.5</td>\n",
       "      <td>1.54</td>\n",
       "    </tr>\n",
       "    <tr>\n",
       "      <th>16</th>\n",
       "      <td>0.6,0.2</td>\n",
       "      <td>1.50</td>\n",
       "    </tr>\n",
       "    <tr>\n",
       "      <th>15</th>\n",
       "      <td>0.3,0.4</td>\n",
       "      <td>1.48</td>\n",
       "    </tr>\n",
       "    <tr>\n",
       "      <th>14</th>\n",
       "      <td>0.5,0.3</td>\n",
       "      <td>1.43</td>\n",
       "    </tr>\n",
       "    <tr>\n",
       "      <th>13</th>\n",
       "      <td>0.2,0.5</td>\n",
       "      <td>1.41</td>\n",
       "    </tr>\n",
       "    <tr>\n",
       "      <th>12</th>\n",
       "      <td>0.7,0.2</td>\n",
       "      <td>1.37</td>\n",
       "    </tr>\n",
       "    <tr>\n",
       "      <th>11</th>\n",
       "      <td>0.4,0.4</td>\n",
       "      <td>1.36</td>\n",
       "    </tr>\n",
       "    <tr>\n",
       "      <th>10</th>\n",
       "      <td>0.1,0.6</td>\n",
       "      <td>1.35</td>\n",
       "    </tr>\n",
       "    <tr>\n",
       "      <th>9</th>\n",
       "      <td>0.6,0.3</td>\n",
       "      <td>1.30</td>\n",
       "    </tr>\n",
       "    <tr>\n",
       "      <th>8</th>\n",
       "      <td>0.3,0.5</td>\n",
       "      <td>1.29</td>\n",
       "    </tr>\n",
       "    <tr>\n",
       "      <th>7</th>\n",
       "      <td>0.5,0.4</td>\n",
       "      <td>1.24</td>\n",
       "    </tr>\n",
       "    <tr>\n",
       "      <th>6</th>\n",
       "      <td>0.2,0.6</td>\n",
       "      <td>1.22</td>\n",
       "    </tr>\n",
       "    <tr>\n",
       "      <th>5</th>\n",
       "      <td>0.7,0.3</td>\n",
       "      <td>1.18</td>\n",
       "    </tr>\n",
       "    <tr>\n",
       "      <th>4</th>\n",
       "      <td>0.4,0.5</td>\n",
       "      <td>1.17</td>\n",
       "    </tr>\n",
       "    <tr>\n",
       "      <th>3</th>\n",
       "      <td>0.1,0.7</td>\n",
       "      <td>1.16</td>\n",
       "    </tr>\n",
       "    <tr>\n",
       "      <th>2</th>\n",
       "      <td>0.3,0.6</td>\n",
       "      <td>1.10</td>\n",
       "    </tr>\n",
       "    <tr>\n",
       "      <th>1</th>\n",
       "      <td>0.2,0.7</td>\n",
       "      <td>1.03</td>\n",
       "    </tr>\n",
       "    <tr>\n",
       "      <th>0</th>\n",
       "      <td>0.1,0.8</td>\n",
       "      <td>0.96</td>\n",
       "    </tr>\n",
       "  </tbody>\n",
       "</table>\n",
       "</div>"
      ],
      "text/plain": [
       "   weight(stock,bond)   수익률\n",
       "34            0.1,0.1  2.30\n",
       "33            0.2,0.1  2.18\n",
       "32            0.1,0.2  2.11\n",
       "31            0.3,0.1  2.06\n",
       "30            0.2,0.2  1.99\n",
       "29            0.4,0.1  1.93\n",
       "28            0.3,0.2  1.87\n",
       "27            0.5,0.1  1.81\n",
       "26            0.2,0.3  1.80\n",
       "25            0.4,0.2  1.74\n",
       "24            0.1,0.4  1.73\n",
       "23            0.6,0.1  1.69\n",
       "22            0.3,0.3  1.67\n",
       "21            0.5,0.2  1.62\n",
       "20            0.2,0.4  1.61\n",
       "19            0.7,0.1  1.56\n",
       "18            0.4,0.3  1.55\n",
       "17            0.1,0.5  1.54\n",
       "16            0.6,0.2  1.50\n",
       "15            0.3,0.4  1.48\n",
       "14            0.5,0.3  1.43\n",
       "13            0.2,0.5  1.41\n",
       "12            0.7,0.2  1.37\n",
       "11            0.4,0.4  1.36\n",
       "10            0.1,0.6  1.35\n",
       "9             0.6,0.3  1.30\n",
       "8             0.3,0.5  1.29\n",
       "7             0.5,0.4  1.24\n",
       "6             0.2,0.6  1.22\n",
       "5             0.7,0.3  1.18\n",
       "4             0.4,0.5  1.17\n",
       "3             0.1,0.7  1.16\n",
       "2             0.3,0.6  1.10\n",
       "1             0.2,0.7  1.03\n",
       "0             0.1,0.8  0.96"
      ]
     },
     "execution_count": 168,
     "metadata": {},
     "output_type": "execute_result"
    }
   ],
   "source": [
    "arr"
   ]
  },
  {
   "cell_type": "markdown",
   "id": "3e2118b4",
   "metadata": {
    "ExecuteTime": {
     "end_time": "2022-05-02T16:59:39.696880Z",
     "start_time": "2022-05-02T16:59:39.685894Z"
    }
   },
   "source": []
  },
  {
   "cell_type": "code",
   "execution_count": null,
   "id": "6eadec80",
   "metadata": {},
   "outputs": [],
   "source": []
  }
 ],
 "metadata": {
  "kernelspec": {
   "display_name": "Python 3 (ipykernel)",
   "language": "python",
   "name": "python3"
  },
  "language_info": {
   "codemirror_mode": {
    "name": "ipython",
    "version": 3
   },
   "file_extension": ".py",
   "mimetype": "text/x-python",
   "name": "python",
   "nbconvert_exporter": "python",
   "pygments_lexer": "ipython3",
   "version": "3.9.12"
  }
 },
 "nbformat": 4,
 "nbformat_minor": 5
}
